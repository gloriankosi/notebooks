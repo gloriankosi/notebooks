{
 "cells": [
  {
   "cell_type": "code",
   "execution_count": 1,
   "id": "d8e93877-4c79-4379-82f4-657352d46379",
   "metadata": {},
   "outputs": [],
   "source": [
    "import torch\n",
    "import pandas as pd\n",
    "import os\n",
    "\n",
    "from sklearn.model_selection import train_test_split\n",
    "from sklearn.utils import shuffle\n",
    "from torch import nn\n",
    "from datasets import Dataset , DatasetDict\n",
    "from transformers import AutoTokenizer, AutoModel , BertForQuestionAnswering"
   ]
  },
  {
   "cell_type": "markdown",
   "id": "c908d79f-f306-4437-8b8e-febafb38f96d",
   "metadata": {},
   "source": [
    "### Preparing data"
   ]
  },
  {
   "cell_type": "code",
   "execution_count": 2,
   "id": "fc20c9c8-67be-4968-8be7-a991578d6a52",
   "metadata": {},
   "outputs": [],
   "source": [
    "binary_sentiment_classification = pd.read_csv(os.getcwd() + '/data/IMDB Dataset.csv')\n",
    "summarization = pd.read_csv(os.getcwd() + '/data/new_summarization_data.csv')"
   ]
  },
  {
   "cell_type": "code",
   "execution_count": 3,
   "id": "9916ba81-d740-4d2b-98aa-8fb09dd962e9",
   "metadata": {},
   "outputs": [
    {
     "data": {
      "text/html": [
       "<div>\n",
       "<style scoped>\n",
       "    .dataframe tbody tr th:only-of-type {\n",
       "        vertical-align: middle;\n",
       "    }\n",
       "\n",
       "    .dataframe tbody tr th {\n",
       "        vertical-align: top;\n",
       "    }\n",
       "\n",
       "    .dataframe thead th {\n",
       "        text-align: right;\n",
       "    }\n",
       "</style>\n",
       "<table border=\"1\" class=\"dataframe\">\n",
       "  <thead>\n",
       "    <tr style=\"text-align: right;\">\n",
       "      <th></th>\n",
       "      <th>review</th>\n",
       "      <th>sentiment</th>\n",
       "    </tr>\n",
       "  </thead>\n",
       "  <tbody>\n",
       "    <tr>\n",
       "      <th>0</th>\n",
       "      <td>One of the other reviewers has mentioned that ...</td>\n",
       "      <td>positive</td>\n",
       "    </tr>\n",
       "  </tbody>\n",
       "</table>\n",
       "</div>"
      ],
      "text/plain": [
       "                                              review sentiment\n",
       "0  One of the other reviewers has mentioned that ...  positive"
      ]
     },
     "execution_count": 3,
     "metadata": {},
     "output_type": "execute_result"
    }
   ],
   "source": [
    "binary_sentiment_classification.head(1)"
   ]
  },
  {
   "cell_type": "code",
   "execution_count": 4,
   "id": "0870e367-c103-4bd1-8e71-cb2dabf8f34f",
   "metadata": {},
   "outputs": [],
   "source": [
    "binary_sentiment_classification['type'] = ['binary_classification'] * binary_sentiment_classification.shape[0]"
   ]
  },
  {
   "cell_type": "code",
   "execution_count": 5,
   "id": "bbc82739-0276-4d12-84fb-bc484a42e3c9",
   "metadata": {},
   "outputs": [],
   "source": [
    "binary_sentiment_classification.rename(columns={'review' : 'text' , 'sentiment':'labels'} , inplace=True)"
   ]
  },
  {
   "cell_type": "code",
   "execution_count": 6,
   "id": "240691bc-7052-4a79-98bc-b68c77408d2f",
   "metadata": {},
   "outputs": [
    {
     "data": {
      "text/html": [
       "<div>\n",
       "<style scoped>\n",
       "    .dataframe tbody tr th:only-of-type {\n",
       "        vertical-align: middle;\n",
       "    }\n",
       "\n",
       "    .dataframe tbody tr th {\n",
       "        vertical-align: top;\n",
       "    }\n",
       "\n",
       "    .dataframe thead th {\n",
       "        text-align: right;\n",
       "    }\n",
       "</style>\n",
       "<table border=\"1\" class=\"dataframe\">\n",
       "  <thead>\n",
       "    <tr style=\"text-align: right;\">\n",
       "      <th></th>\n",
       "      <th>text</th>\n",
       "      <th>labels</th>\n",
       "      <th>type</th>\n",
       "    </tr>\n",
       "  </thead>\n",
       "  <tbody>\n",
       "    <tr>\n",
       "      <th>0</th>\n",
       "      <td>One of the other reviewers has mentioned that ...</td>\n",
       "      <td>positive</td>\n",
       "      <td>binary_classification</td>\n",
       "    </tr>\n",
       "  </tbody>\n",
       "</table>\n",
       "</div>"
      ],
      "text/plain": [
       "                                                text    labels  \\\n",
       "0  One of the other reviewers has mentioned that ...  positive   \n",
       "\n",
       "                    type  \n",
       "0  binary_classification  "
      ]
     },
     "execution_count": 6,
     "metadata": {},
     "output_type": "execute_result"
    }
   ],
   "source": [
    "binary_sentiment_classification.head(1)"
   ]
  },
  {
   "cell_type": "code",
   "execution_count": 7,
   "id": "4eb91558-a2f4-48a2-89c9-b6b23bb92373",
   "metadata": {},
   "outputs": [
    {
     "data": {
      "text/html": [
       "<div>\n",
       "<style scoped>\n",
       "    .dataframe tbody tr th:only-of-type {\n",
       "        vertical-align: middle;\n",
       "    }\n",
       "\n",
       "    .dataframe tbody tr th {\n",
       "        vertical-align: top;\n",
       "    }\n",
       "\n",
       "    .dataframe thead th {\n",
       "        text-align: right;\n",
       "    }\n",
       "</style>\n",
       "<table border=\"1\" class=\"dataframe\">\n",
       "  <thead>\n",
       "    <tr style=\"text-align: right;\">\n",
       "      <th></th>\n",
       "      <th>Unnamed: 0</th>\n",
       "      <th>ID</th>\n",
       "      <th>Content</th>\n",
       "      <th>Summary</th>\n",
       "      <th>Dataset</th>\n",
       "    </tr>\n",
       "  </thead>\n",
       "  <tbody>\n",
       "    <tr>\n",
       "      <th>0</th>\n",
       "      <td>0</td>\n",
       "      <td>f49ee725a0360aa6881ed1f7999cc531885dd06a</td>\n",
       "      <td>New York police are concerned drones could bec...</td>\n",
       "      <td>Police have investigated criminals who have ri...</td>\n",
       "      <td>CNN/Daily Mail</td>\n",
       "    </tr>\n",
       "  </tbody>\n",
       "</table>\n",
       "</div>"
      ],
      "text/plain": [
       "   Unnamed: 0                                        ID  \\\n",
       "0           0  f49ee725a0360aa6881ed1f7999cc531885dd06a   \n",
       "\n",
       "                                             Content  \\\n",
       "0  New York police are concerned drones could bec...   \n",
       "\n",
       "                                             Summary         Dataset  \n",
       "0  Police have investigated criminals who have ri...  CNN/Daily Mail  "
      ]
     },
     "execution_count": 7,
     "metadata": {},
     "output_type": "execute_result"
    }
   ],
   "source": [
    "summarization.head(1)"
   ]
  },
  {
   "cell_type": "code",
   "execution_count": 8,
   "id": "e7f8189a-9836-4601-a386-01dc7d0a248e",
   "metadata": {},
   "outputs": [],
   "source": [
    "summarization = summarization.filter({'Content' , 'Summary' , 'summarization'})"
   ]
  },
  {
   "cell_type": "code",
   "execution_count": 42,
   "id": "7c7d0149-90ff-45cf-8c8b-0570f118693f",
   "metadata": {},
   "outputs": [],
   "source": [
    "summarization['type'] = ['summ'] * summarization.shape[0]"
   ]
  },
  {
   "cell_type": "code",
   "execution_count": 43,
   "id": "5f3b035b-53d5-4f99-8cc0-c267dcc4c466",
   "metadata": {},
   "outputs": [
    {
     "data": {
      "text/html": [
       "<div>\n",
       "<style scoped>\n",
       "    .dataframe tbody tr th:only-of-type {\n",
       "        vertical-align: middle;\n",
       "    }\n",
       "\n",
       "    .dataframe tbody tr th {\n",
       "        vertical-align: top;\n",
       "    }\n",
       "\n",
       "    .dataframe thead th {\n",
       "        text-align: right;\n",
       "    }\n",
       "</style>\n",
       "<table border=\"1\" class=\"dataframe\">\n",
       "  <thead>\n",
       "    <tr style=\"text-align: right;\">\n",
       "      <th></th>\n",
       "      <th>labels</th>\n",
       "      <th>text</th>\n",
       "      <th>type</th>\n",
       "    </tr>\n",
       "  </thead>\n",
       "  <tbody>\n",
       "    <tr>\n",
       "      <th>0</th>\n",
       "      <td>New York police are concerned drones could bec...</td>\n",
       "      <td>Police have investigated criminals who have ri...</td>\n",
       "      <td>summ</td>\n",
       "    </tr>\n",
       "  </tbody>\n",
       "</table>\n",
       "</div>"
      ],
      "text/plain": [
       "                                              labels  \\\n",
       "0  New York police are concerned drones could bec...   \n",
       "\n",
       "                                                text  type  \n",
       "0  Police have investigated criminals who have ri...  summ  "
      ]
     },
     "execution_count": 43,
     "metadata": {},
     "output_type": "execute_result"
    }
   ],
   "source": [
    "summarization.head(1)"
   ]
  },
  {
   "cell_type": "code",
   "execution_count": 44,
   "id": "8941e462-3f08-41fe-a021-f219e691f13a",
   "metadata": {},
   "outputs": [],
   "source": [
    "summarization.rename(columns={'Summary': 'text' , 'Content':'labels'} , inplace=True)"
   ]
  },
  {
   "cell_type": "code",
   "execution_count": 45,
   "id": "7d5d26fb-b490-4118-b7d7-711019593d33",
   "metadata": {},
   "outputs": [
    {
     "data": {
      "text/html": [
       "<div>\n",
       "<style scoped>\n",
       "    .dataframe tbody tr th:only-of-type {\n",
       "        vertical-align: middle;\n",
       "    }\n",
       "\n",
       "    .dataframe tbody tr th {\n",
       "        vertical-align: top;\n",
       "    }\n",
       "\n",
       "    .dataframe thead th {\n",
       "        text-align: right;\n",
       "    }\n",
       "</style>\n",
       "<table border=\"1\" class=\"dataframe\">\n",
       "  <thead>\n",
       "    <tr style=\"text-align: right;\">\n",
       "      <th></th>\n",
       "      <th>labels</th>\n",
       "      <th>text</th>\n",
       "      <th>type</th>\n",
       "    </tr>\n",
       "  </thead>\n",
       "  <tbody>\n",
       "    <tr>\n",
       "      <th>0</th>\n",
       "      <td>New York police are concerned drones could bec...</td>\n",
       "      <td>Police have investigated criminals who have ri...</td>\n",
       "      <td>summ</td>\n",
       "    </tr>\n",
       "  </tbody>\n",
       "</table>\n",
       "</div>"
      ],
      "text/plain": [
       "                                              labels  \\\n",
       "0  New York police are concerned drones could bec...   \n",
       "\n",
       "                                                text  type  \n",
       "0  Police have investigated criminals who have ri...  summ  "
      ]
     },
     "execution_count": 45,
     "metadata": {},
     "output_type": "execute_result"
    }
   ],
   "source": [
    "summarization.head(1)"
   ]
  },
  {
   "cell_type": "code",
   "execution_count": 46,
   "id": "f4ccc3ac-620c-4ea7-b59d-e5c901404405",
   "metadata": {},
   "outputs": [],
   "source": [
    "df = pd.concat([summarization , binary_sentiment_classification])"
   ]
  },
  {
   "cell_type": "code",
   "execution_count": 47,
   "id": "329e7dc0-297f-49e6-aca5-1d01b94a5ef1",
   "metadata": {},
   "outputs": [],
   "source": [
    "df = df.sample(frac=1).reset_index(drop=True)"
   ]
  },
  {
   "cell_type": "code",
   "execution_count": 48,
   "id": "c118da51-3c32-45a4-9a9d-e44d4bd0b25b",
   "metadata": {},
   "outputs": [
    {
     "data": {
      "text/html": [
       "<div>\n",
       "<style scoped>\n",
       "    .dataframe tbody tr th:only-of-type {\n",
       "        vertical-align: middle;\n",
       "    }\n",
       "\n",
       "    .dataframe tbody tr th {\n",
       "        vertical-align: top;\n",
       "    }\n",
       "\n",
       "    .dataframe thead th {\n",
       "        text-align: right;\n",
       "    }\n",
       "</style>\n",
       "<table border=\"1\" class=\"dataframe\">\n",
       "  <thead>\n",
       "    <tr style=\"text-align: right;\">\n",
       "      <th></th>\n",
       "      <th>labels</th>\n",
       "      <th>text</th>\n",
       "      <th>type</th>\n",
       "    </tr>\n",
       "  </thead>\n",
       "  <tbody>\n",
       "    <tr>\n",
       "      <th>0</th>\n",
       "      <td>She's been accused of shamelessly attaching he...</td>\n",
       "      <td>Will Germany's triumph at the World Cup help A...</td>\n",
       "      <td>summ</td>\n",
       "    </tr>\n",
       "    <tr>\n",
       "      <th>1</th>\n",
       "      <td>11 July 2017 Last updated at 07:55 BST\\nScrapp...</td>\n",
       "      <td>Tackling a blaze isn't just a job for firefigh...</td>\n",
       "      <td>summ</td>\n",
       "    </tr>\n",
       "    <tr>\n",
       "      <th>2</th>\n",
       "      <td>Cecilio Lopez Sanchez was hoisted out of the c...</td>\n",
       "      <td>A Spanish caver has been freed after being tra...</td>\n",
       "      <td>summ</td>\n",
       "    </tr>\n",
       "    <tr>\n",
       "      <th>3</th>\n",
       "      <td>Controversy: the comments made by Mr Davies ha...</td>\n",
       "      <td>MP criticised for 'insulting' and 'embarrassin...</td>\n",
       "      <td>summ</td>\n",
       "    </tr>\n",
       "    <tr>\n",
       "      <th>4</th>\n",
       "      <td>(CNN) -- A year ago, President Obama delivered...</td>\n",
       "      <td>A year ago, President Obama gave a key speech ...</td>\n",
       "      <td>summ</td>\n",
       "    </tr>\n",
       "    <tr>\n",
       "      <th>5</th>\n",
       "      <td>By . Darren Boyle for MailOnline . A former pu...</td>\n",
       "      <td>Archie Reed, 20, is accused of attempting to r...</td>\n",
       "      <td>summ</td>\n",
       "    </tr>\n",
       "    <tr>\n",
       "      <th>6</th>\n",
       "      <td>(CNN) -- German football is riding the crest o...</td>\n",
       "      <td>Owen Hargreaves says English football need to ...</td>\n",
       "      <td>summ</td>\n",
       "    </tr>\n",
       "    <tr>\n",
       "      <th>7</th>\n",
       "      <td>The Democratic-run U.S. Senate defeated measur...</td>\n",
       "      <td>– A measure to defund Planned Parenthood was s...</td>\n",
       "      <td>summ</td>\n",
       "    </tr>\n",
       "    <tr>\n",
       "      <th>8</th>\n",
       "      <td>By . Ap  Reporter . PUBLISHED: . 17:23 EST, 23...</td>\n",
       "      <td>Mormons have long taught disaster preparedness...</td>\n",
       "      <td>summ</td>\n",
       "    </tr>\n",
       "    <tr>\n",
       "      <th>9</th>\n",
       "      <td>By . Ruth Styles . Sheila Thomas, now 64, was ...</td>\n",
       "      <td>Sheila Thomas, now 64, was 17 when she had to ...</td>\n",
       "      <td>summ</td>\n",
       "    </tr>\n",
       "    <tr>\n",
       "      <th>10</th>\n",
       "      <td>The Metropolitan Police, which is investigatin...</td>\n",
       "      <td>A 15-year-old boy arrested in Northern Ireland...</td>\n",
       "      <td>summ</td>\n",
       "    </tr>\n",
       "    <tr>\n",
       "      <th>11</th>\n",
       "      <td>His son, film director Duncan Jones, confirmed...</td>\n",
       "      <td>Singer David Bowie has died at the age of 69 f...</td>\n",
       "      <td>summ</td>\n",
       "    </tr>\n",
       "    <tr>\n",
       "      <th>12</th>\n",
       "      <td>Four people were killed and nine people were i...</td>\n",
       "      <td>Gunfire breaks out during a funeral procession...</td>\n",
       "      <td>summ</td>\n",
       "    </tr>\n",
       "    <tr>\n",
       "      <th>13</th>\n",
       "      <td>By . Olivia Williams . PUBLISHED: . 13:02 EST,...</td>\n",
       "      <td>British woman was arrested as she checked into...</td>\n",
       "      <td>summ</td>\n",
       "    </tr>\n",
       "    <tr>\n",
       "      <th>14</th>\n",
       "      <td>(CNN)  -- England international footballer Ste...</td>\n",
       "      <td>England football star Steven Gerrard cleared o...</td>\n",
       "      <td>summ</td>\n",
       "    </tr>\n",
       "    <tr>\n",
       "      <th>15</th>\n",
       "      <td>Bureaucrats in Europe could push the price of ...</td>\n",
       "      <td>10 per cent of transport energy must be 'green...</td>\n",
       "      <td>summ</td>\n",
       "    </tr>\n",
       "    <tr>\n",
       "      <th>16</th>\n",
       "      <td>The air raid targeted an abandoned UN peacekee...</td>\n",
       "      <td>The Israeli Air Force has bombed a building us...</td>\n",
       "      <td>summ</td>\n",
       "    </tr>\n",
       "    <tr>\n",
       "      <th>17</th>\n",
       "      <td>By . Sam Adams . PUBLISHED: . 07:15 EST, 25 Ja...</td>\n",
       "      <td>Burnt out shell of battery from Japan Airlines...</td>\n",
       "      <td>summ</td>\n",
       "    </tr>\n",
       "    <tr>\n",
       "      <th>18</th>\n",
       "      <td>Sunderland head coach Gus Poyet is set to esca...</td>\n",
       "      <td>Gus Poyet was sent to the stands during Sunder...</td>\n",
       "      <td>summ</td>\n",
       "    </tr>\n",
       "    <tr>\n",
       "      <th>19</th>\n",
       "      <td>He said the EU could \"forget about\" Turkey re-...</td>\n",
       "      <td>Turkish President Recep Tayyip Erdogan has thr...</td>\n",
       "      <td>summ</td>\n",
       "    </tr>\n",
       "  </tbody>\n",
       "</table>\n",
       "</div>"
      ],
      "text/plain": [
       "                                               labels  \\\n",
       "0   She's been accused of shamelessly attaching he...   \n",
       "1   11 July 2017 Last updated at 07:55 BST\\nScrapp...   \n",
       "2   Cecilio Lopez Sanchez was hoisted out of the c...   \n",
       "3   Controversy: the comments made by Mr Davies ha...   \n",
       "4   (CNN) -- A year ago, President Obama delivered...   \n",
       "5   By . Darren Boyle for MailOnline . A former pu...   \n",
       "6   (CNN) -- German football is riding the crest o...   \n",
       "7   The Democratic-run U.S. Senate defeated measur...   \n",
       "8   By . Ap  Reporter . PUBLISHED: . 17:23 EST, 23...   \n",
       "9   By . Ruth Styles . Sheila Thomas, now 64, was ...   \n",
       "10  The Metropolitan Police, which is investigatin...   \n",
       "11  His son, film director Duncan Jones, confirmed...   \n",
       "12  Four people were killed and nine people were i...   \n",
       "13  By . Olivia Williams . PUBLISHED: . 13:02 EST,...   \n",
       "14  (CNN)  -- England international footballer Ste...   \n",
       "15  Bureaucrats in Europe could push the price of ...   \n",
       "16  The air raid targeted an abandoned UN peacekee...   \n",
       "17  By . Sam Adams . PUBLISHED: . 07:15 EST, 25 Ja...   \n",
       "18  Sunderland head coach Gus Poyet is set to esca...   \n",
       "19  He said the EU could \"forget about\" Turkey re-...   \n",
       "\n",
       "                                                 text  type  \n",
       "0   Will Germany's triumph at the World Cup help A...  summ  \n",
       "1   Tackling a blaze isn't just a job for firefigh...  summ  \n",
       "2   A Spanish caver has been freed after being tra...  summ  \n",
       "3   MP criticised for 'insulting' and 'embarrassin...  summ  \n",
       "4   A year ago, President Obama gave a key speech ...  summ  \n",
       "5   Archie Reed, 20, is accused of attempting to r...  summ  \n",
       "6   Owen Hargreaves says English football need to ...  summ  \n",
       "7   – A measure to defund Planned Parenthood was s...  summ  \n",
       "8   Mormons have long taught disaster preparedness...  summ  \n",
       "9   Sheila Thomas, now 64, was 17 when she had to ...  summ  \n",
       "10  A 15-year-old boy arrested in Northern Ireland...  summ  \n",
       "11  Singer David Bowie has died at the age of 69 f...  summ  \n",
       "12  Gunfire breaks out during a funeral procession...  summ  \n",
       "13  British woman was arrested as she checked into...  summ  \n",
       "14  England football star Steven Gerrard cleared o...  summ  \n",
       "15  10 per cent of transport energy must be 'green...  summ  \n",
       "16  The Israeli Air Force has bombed a building us...  summ  \n",
       "17  Burnt out shell of battery from Japan Airlines...  summ  \n",
       "18  Gus Poyet was sent to the stands during Sunder...  summ  \n",
       "19  Turkish President Recep Tayyip Erdogan has thr...  summ  "
      ]
     },
     "execution_count": 48,
     "metadata": {},
     "output_type": "execute_result"
    }
   ],
   "source": [
    "df.head(20)"
   ]
  },
  {
   "cell_type": "code",
   "execution_count": 49,
   "id": "cf07cce3-1d38-4592-8047-1f85a5c65ae7",
   "metadata": {},
   "outputs": [],
   "source": [
    "train, test = train_test_split(df, test_size=0.2)"
   ]
  },
  {
   "cell_type": "code",
   "execution_count": 50,
   "id": "04c2b991-a91c-44fb-9cff-36b777acb622",
   "metadata": {},
   "outputs": [],
   "source": [
    "tokenizer = AutoTokenizer.from_pretrained(\"bert-base-uncased\")"
   ]
  },
  {
   "cell_type": "code",
   "execution_count": 51,
   "id": "289c9373-0474-4d60-bc51-ba98fcb27ee3",
   "metadata": {},
   "outputs": [
    {
     "data": {
      "application/vnd.jupyter.widget-view+json": {
       "model_id": "76d36a85aa3d4c84bef08d6a6dc3818d",
       "version_major": 2,
       "version_minor": 0
      },
      "text/plain": [
       "  0%|          | 0/737 [00:00<?, ?ba/s]"
      ]
     },
     "metadata": {},
     "output_type": "display_data"
    },
    {
     "data": {
      "application/vnd.jupyter.widget-view+json": {
       "model_id": "672492f4e7274c8a9486180f9ee9b6fb",
       "version_major": 2,
       "version_minor": 0
      },
      "text/plain": [
       "  0%|          | 0/185 [00:00<?, ?ba/s]"
      ]
     },
     "metadata": {},
     "output_type": "display_data"
    }
   ],
   "source": [
    "datasets_train_test = DatasetDict({\n",
    "    \"train\": Dataset.from_pandas(train),\n",
    "    \"test\": Dataset.from_pandas(test)\n",
    "    })\n",
    "\n",
    "def tokenize_function(df):\n",
    "    return tokenizer(df[\"text\"], padding=\"max_length\", truncation=True)\n",
    "tokenized_datasets = datasets_train_test.map(tokenize_function, batched=True)"
   ]
  },
  {
   "cell_type": "code",
   "execution_count": 52,
   "id": "97a2d416-7e82-4e04-af8b-5a63f4af06c8",
   "metadata": {},
   "outputs": [],
   "source": [
    "import pickle\n",
    "\n",
    "# preprocessing checkpoint\n",
    "\n",
    "with open('tokenized_datasets.t', 'wb') as f:\n",
    "    pickle.dump(tokenized_datasets, f)"
   ]
  },
  {
   "cell_type": "code",
   "execution_count": 53,
   "id": "781d878f-6bbf-431d-bde9-19a64211ae2d",
   "metadata": {},
   "outputs": [],
   "source": [
    "tokenized_datasets = tokenized_datasets.remove_columns(['text' , '__index_level_0__'])\n",
    "tokenized_datasets = tokenized_datasets.rename_column('type' , 'tasks')\n",
    "tokenized_datasets.set_format(\"torch\")"
   ]
  },
  {
   "cell_type": "code",
   "execution_count": 54,
   "id": "9c52f7b3-26e3-4348-85e2-0eb29640f5e4",
   "metadata": {},
   "outputs": [
    {
     "data": {
      "text/plain": [
       "DatasetDict({\n",
       "    train: Dataset({\n",
       "        features: ['labels', 'tasks', 'input_ids', 'token_type_ids', 'attention_mask'],\n",
       "        num_rows: 736416\n",
       "    })\n",
       "    test: Dataset({\n",
       "        features: ['labels', 'tasks', 'input_ids', 'token_type_ids', 'attention_mask'],\n",
       "        num_rows: 184105\n",
       "    })\n",
       "})"
      ]
     },
     "execution_count": 54,
     "metadata": {},
     "output_type": "execute_result"
    }
   ],
   "source": [
    "tokenized_datasets"
   ]
  },
  {
   "cell_type": "markdown",
   "id": "1f3fa6dc-7676-4c76-a781-0e53aded1617",
   "metadata": {},
   "source": [
    "### Defining model"
   ]
  },
  {
   "cell_type": "code",
   "execution_count": 55,
   "id": "d8c78278-04af-479c-b13a-8d71980ff05c",
   "metadata": {},
   "outputs": [],
   "source": [
    "class BinaryClassificationHead(nn.Module):\n",
    "    def __init__(self, hidden_size, num_labels, model, dropout_p=0.1):\n",
    "        super().__init__()\n",
    "        self.num_labels = num_labels\n",
    "        self.dropout = nn.Dropout(dropout_p)\n",
    "        self.classifier = nn.Linear(hidden_size, num_labels)\n",
    "        \n",
    "        self._init_weights()\n",
    "        \n",
    "        self.forward = model.forward\n",
    "    \n",
    "    def _init_weights(self):\n",
    "        self.classifier.weight.data.normal_(mean=0.0, std=0.02)\n",
    "        if self.classifier.bias is not None:\n",
    "            self.classifier.bias.data.zero_()\n",
    "            \n",
    "class QAClassificationHead(nn.Module):\n",
    "    def __init__(self, hidden_size, num_labels, model, dropout_p=0.1):\n",
    "        super().__init__()\n",
    "        self.qa_outputs = nn.Linear(hidden_size, num_labels)\n",
    "        \n",
    "        self._init_weights()\n",
    "    \n",
    "        self.forward = model.forward\n",
    "        \n",
    "    def _init_weights(self):\n",
    "        self.qa_outputs.weight.data.normal_(mean=0.0, std=0.02)\n",
    "        if self.qa_outputs.bias is not None:\n",
    "            self.qa_outputs.bias.data.zero_()"
   ]
  },
  {
   "cell_type": "code",
   "execution_count": 81,
   "id": "0dda6e44-a98e-4e29-bb87-d206c1c0bb04",
   "metadata": {},
   "outputs": [],
   "source": [
    "# tasks is list type\n",
    "# bert-base-uncased\n",
    "class MLT(nn.Module):\n",
    "    def __init__(self, model_name, tasks):\n",
    "        super().__init__()\n",
    "        self.model = AutoModel.from_pretrained(model_name)\n",
    "        self.task_heads = nn.ModuleDict()\n",
    "        for task in tasks:\n",
    "            output_head = self._create_output_head(self.model.config.hidden_size , task , self.model)\n",
    "            self.task_heads[task] = output_head\n",
    "    @staticmethod\n",
    "    def _create_output_head(model_hidden_size , task, model):\n",
    "        if task == \"summ\":\n",
    "            return QAClassificationHead(model_hidden_size, 2 ,model)\n",
    "        elif task == \"binary_class\":\n",
    "            return BinaryClassificationHead(model_hidden_size, 2 ,model)\n",
    "        else:\n",
    "            raise NotImplementedError()\n",
    "            \n",
    "    # 'labels', 'tasks', 'input_ids', 'token_type_ids', 'attention_mask\n",
    "    # forward method of MLT class\n",
    "    \n",
    "    def forward(self,\n",
    "        input_ids=None,\n",
    "        attention_mask=None,\n",
    "        token_type_ids=None,\n",
    "        position_ids=None,\n",
    "        head_mask=None,\n",
    "        inputs_embeds=None,\n",
    "        labels=None,\n",
    "        tasks=None,\n",
    "        **kwargs,):\n",
    "        \n",
    "        print(\"IN MAIN FORWARD\")\n",
    "        \n",
    "        outputs = self.model(\n",
    "            input_ids=input_ids,\n",
    "            attention_mask=attention_mask,\n",
    "            token_type_ids=token_type_ids,\n",
    "            position_ids=position_ids,\n",
    "            head_mask=head_mask,\n",
    "            inputs_embeds=inputs_embeds,\n",
    "        )\n",
    "        \n",
    "        # get only last sequence and pooled output\n",
    "        last_sequence, pooled_output = outputs[:2]\n",
    "        print(type(tasks))\n",
    "        unique_tasks = [tasks] # Need to make this into a tensor of strings, or better, just keep as list and see where it goes\n",
    "        \n",
    "        loss = []\n",
    "        logits = None\n",
    "        \n",
    "        for unique_task in unique_tasks:\n",
    "            task_id_filter = tasks == unique_task\n",
    "            logits, task_loss = self.task_heads[str(unique_task[0])].forward(\n",
    "                last_sequence[task_id_filter],\n",
    "                pooled_output[task_id_filter],\n",
    "                attention_mask[task_id_filter],\n",
    "            )\n",
    "\n",
    "            if labels is not None:\n",
    "                loss_list.append(task_loss)\n",
    "        \n",
    "    \n",
    "        outputs = (logits, outputs[2:])\n",
    "        \n",
    "        if loss:\n",
    "            loss = torch.stack(loss)\n",
    "            outputs = (loss.mean(),) + outputs\n",
    "            \n",
    "        return outputs"
   ]
  },
  {
   "cell_type": "code",
   "execution_count": 57,
   "id": "04a5d47c-d302-4064-8c3f-50b3ba99549b",
   "metadata": {},
   "outputs": [],
   "source": [
    "small_train_dataset = tokenized_datasets[\"train\"].shuffle(seed=42).select(range(1000))\n",
    "small_eval_dataset = tokenized_datasets[\"test\"].shuffle(seed=42).select(range(1000))"
   ]
  },
  {
   "cell_type": "code",
   "execution_count": 58,
   "id": "20e6c522-6ce4-40ad-ae05-a3eac884624b",
   "metadata": {},
   "outputs": [],
   "source": [
    "from transformers import TrainingArguments, Trainer\n",
    "import numpy as np\n",
    "import evaluate\n",
    "\n",
    "training_args = TrainingArguments(output_dir=\"test_trainer\")"
   ]
  },
  {
   "cell_type": "code",
   "execution_count": 59,
   "id": "bd5504b5-f8ff-4796-8690-fc2a1d527344",
   "metadata": {},
   "outputs": [],
   "source": [
    "metric = evaluate.load(\"accuracy\")\n",
    "\n",
    "def compute_metrics(eval_pred):\n",
    "    logits, labels = eval_pred\n",
    "    predictions = np.argmax(logits, axis=-1)\n",
    "    return metric.compute(predictions=predictions, references=labels)"
   ]
  },
  {
   "cell_type": "code",
   "execution_count": 82,
   "id": "e5ae6cb1-422e-4ff8-bdac-de2002131b43",
   "metadata": {},
   "outputs": [
    {
     "name": "stderr",
     "output_type": "stream",
     "text": [
      "Some weights of the model checkpoint at bert-base-uncased were not used when initializing BertModel: ['cls.predictions.transform.dense.weight', 'cls.seq_relationship.bias', 'cls.predictions.transform.LayerNorm.bias', 'cls.predictions.bias', 'cls.seq_relationship.weight', 'cls.predictions.transform.dense.bias', 'cls.predictions.decoder.weight', 'cls.predictions.transform.LayerNorm.weight']\n",
      "- This IS expected if you are initializing BertModel from the checkpoint of a model trained on another task or with another architecture (e.g. initializing a BertForSequenceClassification model from a BertForPreTraining model).\n",
      "- This IS NOT expected if you are initializing BertModel from the checkpoint of a model that you expect to be exactly identical (initializing a BertForSequenceClassification model from a BertForSequenceClassification model).\n"
     ]
    }
   ],
   "source": [
    "model = MLT(\"bert-base-uncased\" , ['binary_class' , 'summ'])"
   ]
  },
  {
   "cell_type": "code",
   "execution_count": 83,
   "id": "254e3905-c8e0-4cf1-ad7f-3a6bb44ca23f",
   "metadata": {},
   "outputs": [
    {
     "name": "stdout",
     "output_type": "stream",
     "text": [
      "torch.Size([512])\n",
      "IN MAIN FORWARD\n",
      "<class 'list'>\n"
     ]
    },
    {
     "ename": "ValueError",
     "evalue": "too many values to unpack (expected 2)",
     "output_type": "error",
     "traceback": [
      "\u001b[0;31m---------------------------------------------------------------------------\u001b[0m",
      "\u001b[0;31mValueError\u001b[0m                                Traceback (most recent call last)",
      "Cell \u001b[0;32mIn [83], line 3\u001b[0m\n\u001b[1;32m      1\u001b[0m \u001b[38;5;28;01mfor\u001b[39;00m e \u001b[38;5;129;01min\u001b[39;00m small_train_dataset:\n\u001b[1;32m      2\u001b[0m     \u001b[38;5;28mprint\u001b[39m((e[\u001b[38;5;124m'\u001b[39m\u001b[38;5;124minput_ids\u001b[39m\u001b[38;5;124m'\u001b[39m]\u001b[38;5;241m.\u001b[39msize()))\n\u001b[0;32m----> 3\u001b[0m     \u001b[43mmodel\u001b[49m\u001b[43m(\u001b[49m\u001b[43minput_ids\u001b[49m\u001b[43m \u001b[49m\u001b[38;5;241;43m=\u001b[39;49m\u001b[43m \u001b[49m\u001b[43me\u001b[49m\u001b[43m[\u001b[49m\u001b[38;5;124;43m'\u001b[39;49m\u001b[38;5;124;43minput_ids\u001b[39;49m\u001b[38;5;124;43m'\u001b[39;49m\u001b[43m]\u001b[49m\u001b[38;5;241;43m.\u001b[39;49m\u001b[43munsqueeze\u001b[49m\u001b[43m(\u001b[49m\u001b[38;5;241;43m0\u001b[39;49m\u001b[43m)\u001b[49m\u001b[43m \u001b[49m\u001b[43m,\u001b[49m\u001b[43m \u001b[49m\u001b[43mtasks\u001b[49m\u001b[43m \u001b[49m\u001b[38;5;241;43m=\u001b[39;49m\u001b[43m \u001b[49m\u001b[43m[\u001b[49m\u001b[43me\u001b[49m\u001b[43m[\u001b[49m\u001b[38;5;124;43m'\u001b[39;49m\u001b[38;5;124;43mtasks\u001b[39;49m\u001b[38;5;124;43m'\u001b[39;49m\u001b[43m]\u001b[49m\u001b[43m]\u001b[49m\u001b[43m \u001b[49m\u001b[43m,\u001b[49m\u001b[43m \u001b[49m\n\u001b[1;32m      4\u001b[0m \u001b[43m          \u001b[49m\u001b[43mattention_mask\u001b[49m\u001b[43m \u001b[49m\u001b[38;5;241;43m=\u001b[39;49m\u001b[43m \u001b[49m\u001b[43me\u001b[49m\u001b[43m[\u001b[49m\u001b[38;5;124;43m'\u001b[39;49m\u001b[38;5;124;43mattention_mask\u001b[39;49m\u001b[38;5;124;43m'\u001b[39;49m\u001b[43m]\u001b[49m\u001b[38;5;241;43m.\u001b[39;49m\u001b[43munsqueeze\u001b[49m\u001b[43m(\u001b[49m\u001b[38;5;241;43m0\u001b[39;49m\u001b[43m)\u001b[49m\u001b[43m \u001b[49m\u001b[43m,\u001b[49m\u001b[43m \u001b[49m\u001b[43mtoken_type_ids\u001b[49m\u001b[43m \u001b[49m\u001b[38;5;241;43m=\u001b[39;49m\u001b[43m \u001b[49m\u001b[43me\u001b[49m\u001b[43m[\u001b[49m\u001b[38;5;124;43m'\u001b[39;49m\u001b[38;5;124;43mtoken_type_ids\u001b[39;49m\u001b[38;5;124;43m'\u001b[39;49m\u001b[43m]\u001b[49m\u001b[43m)\u001b[49m\n\u001b[1;32m      5\u001b[0m     \u001b[38;5;28;01mbreak\u001b[39;00m\n",
      "File \u001b[0;32m~/kosig/lib/python3.9/site-packages/torch/nn/modules/module.py:1130\u001b[0m, in \u001b[0;36mModule._call_impl\u001b[0;34m(self, *input, **kwargs)\u001b[0m\n\u001b[1;32m   1126\u001b[0m \u001b[38;5;66;03m# If we don't have any hooks, we want to skip the rest of the logic in\u001b[39;00m\n\u001b[1;32m   1127\u001b[0m \u001b[38;5;66;03m# this function, and just call forward.\u001b[39;00m\n\u001b[1;32m   1128\u001b[0m \u001b[38;5;28;01mif\u001b[39;00m \u001b[38;5;129;01mnot\u001b[39;00m (\u001b[38;5;28mself\u001b[39m\u001b[38;5;241m.\u001b[39m_backward_hooks \u001b[38;5;129;01mor\u001b[39;00m \u001b[38;5;28mself\u001b[39m\u001b[38;5;241m.\u001b[39m_forward_hooks \u001b[38;5;129;01mor\u001b[39;00m \u001b[38;5;28mself\u001b[39m\u001b[38;5;241m.\u001b[39m_forward_pre_hooks \u001b[38;5;129;01mor\u001b[39;00m _global_backward_hooks\n\u001b[1;32m   1129\u001b[0m         \u001b[38;5;129;01mor\u001b[39;00m _global_forward_hooks \u001b[38;5;129;01mor\u001b[39;00m _global_forward_pre_hooks):\n\u001b[0;32m-> 1130\u001b[0m     \u001b[38;5;28;01mreturn\u001b[39;00m \u001b[43mforward_call\u001b[49m\u001b[43m(\u001b[49m\u001b[38;5;241;43m*\u001b[39;49m\u001b[38;5;28;43minput\u001b[39;49m\u001b[43m,\u001b[49m\u001b[43m \u001b[49m\u001b[38;5;241;43m*\u001b[39;49m\u001b[38;5;241;43m*\u001b[39;49m\u001b[43mkwargs\u001b[49m\u001b[43m)\u001b[49m\n\u001b[1;32m   1131\u001b[0m \u001b[38;5;66;03m# Do not call functions when jit is used\u001b[39;00m\n\u001b[1;32m   1132\u001b[0m full_backward_hooks, non_full_backward_hooks \u001b[38;5;241m=\u001b[39m [], []\n",
      "Cell \u001b[0;32mIn [81], line 55\u001b[0m, in \u001b[0;36mMLT.forward\u001b[0;34m(self, input_ids, attention_mask, token_type_ids, position_ids, head_mask, inputs_embeds, labels, tasks, **kwargs)\u001b[0m\n\u001b[1;32m     53\u001b[0m \u001b[38;5;28;01mfor\u001b[39;00m unique_task \u001b[38;5;129;01min\u001b[39;00m unique_tasks:\n\u001b[1;32m     54\u001b[0m     task_id_filter \u001b[38;5;241m=\u001b[39m tasks \u001b[38;5;241m==\u001b[39m unique_task\n\u001b[0;32m---> 55\u001b[0m     logits, task_loss \u001b[38;5;241m=\u001b[39m \u001b[38;5;28;43mself\u001b[39;49m\u001b[38;5;241;43m.\u001b[39;49m\u001b[43mtask_heads\u001b[49m\u001b[43m[\u001b[49m\u001b[38;5;28;43mstr\u001b[39;49m\u001b[43m(\u001b[49m\u001b[43munique_task\u001b[49m\u001b[43m[\u001b[49m\u001b[38;5;241;43m0\u001b[39;49m\u001b[43m]\u001b[49m\u001b[43m)\u001b[49m\u001b[43m]\u001b[49m\u001b[38;5;241;43m.\u001b[39;49m\u001b[43mforward\u001b[49m\u001b[43m(\u001b[49m\n\u001b[1;32m     56\u001b[0m \u001b[43m        \u001b[49m\u001b[43mlast_sequence\u001b[49m\u001b[43m[\u001b[49m\u001b[43mtask_id_filter\u001b[49m\u001b[43m]\u001b[49m\u001b[43m,\u001b[49m\n\u001b[1;32m     57\u001b[0m \u001b[43m        \u001b[49m\u001b[43mpooled_output\u001b[49m\u001b[43m[\u001b[49m\u001b[43mtask_id_filter\u001b[49m\u001b[43m]\u001b[49m\u001b[43m,\u001b[49m\n\u001b[1;32m     58\u001b[0m \u001b[43m        \u001b[49m\u001b[43mattention_mask\u001b[49m\u001b[43m[\u001b[49m\u001b[43mtask_id_filter\u001b[49m\u001b[43m]\u001b[49m\u001b[43m,\u001b[49m\n\u001b[1;32m     59\u001b[0m \u001b[43m    \u001b[49m\u001b[43m)\u001b[49m\n\u001b[1;32m     61\u001b[0m     \u001b[38;5;28;01mif\u001b[39;00m labels \u001b[38;5;129;01mis\u001b[39;00m \u001b[38;5;129;01mnot\u001b[39;00m \u001b[38;5;28;01mNone\u001b[39;00m:\n\u001b[1;32m     62\u001b[0m         loss_list\u001b[38;5;241m.\u001b[39mappend(task_loss)\n",
      "File \u001b[0;32m~/kosig/lib/python3.9/site-packages/transformers/models/bert/modeling_bert.py:975\u001b[0m, in \u001b[0;36mBertModel.forward\u001b[0;34m(self, input_ids, attention_mask, token_type_ids, position_ids, head_mask, inputs_embeds, encoder_hidden_states, encoder_attention_mask, past_key_values, use_cache, output_attentions, output_hidden_states, return_dict)\u001b[0m\n\u001b[1;32m    972\u001b[0m \u001b[38;5;28;01melse\u001b[39;00m:\n\u001b[1;32m    973\u001b[0m     \u001b[38;5;28;01mraise\u001b[39;00m \u001b[38;5;167;01mValueError\u001b[39;00m(\u001b[38;5;124m\"\u001b[39m\u001b[38;5;124mYou have to specify either input_ids or inputs_embeds\u001b[39m\u001b[38;5;124m\"\u001b[39m)\n\u001b[0;32m--> 975\u001b[0m batch_size, seq_length \u001b[38;5;241m=\u001b[39m input_shape\n\u001b[1;32m    976\u001b[0m device \u001b[38;5;241m=\u001b[39m input_ids\u001b[38;5;241m.\u001b[39mdevice \u001b[38;5;28;01mif\u001b[39;00m input_ids \u001b[38;5;129;01mis\u001b[39;00m \u001b[38;5;129;01mnot\u001b[39;00m \u001b[38;5;28;01mNone\u001b[39;00m \u001b[38;5;28;01melse\u001b[39;00m inputs_embeds\u001b[38;5;241m.\u001b[39mdevice\n\u001b[1;32m    978\u001b[0m \u001b[38;5;66;03m# past_key_values_length\u001b[39;00m\n",
      "\u001b[0;31mValueError\u001b[0m: too many values to unpack (expected 2)"
     ]
    }
   ],
   "source": [
    "for e in small_train_dataset:\n",
    "    print((e['input_ids'].size()))\n",
    "    model(input_ids = e['input_ids'].unsqueeze(0) , tasks = [e['tasks']] , \n",
    "          attention_mask = e['attention_mask'].unsqueeze(0) , token_type_ids = e['token_type_ids'])\n",
    "    break"
   ]
  },
  {
   "cell_type": "code",
   "execution_count": null,
   "id": "8385cfb2-0896-4681-ad0a-49f82bc8ac64",
   "metadata": {},
   "outputs": [],
   "source": [
    "trainer = Trainer(\n",
    "    model=model,\n",
    "    args=training_args,\n",
    "    train_dataset=small_train_dataset,\n",
    "    eval_dataset=small_eval_dataset,\n",
    "    compute_metrics=compute_metrics,\n",
    ")"
   ]
  },
  {
   "cell_type": "code",
   "execution_count": null,
   "id": "922f9862-b031-4c8c-abad-3319871e83e8",
   "metadata": {},
   "outputs": [],
   "source": [
    "trainer.train()"
   ]
  },
  {
   "cell_type": "code",
   "execution_count": null,
   "id": "cef1f746-8cd6-4a89-a95a-e9ae7b70cbea",
   "metadata": {},
   "outputs": [],
   "source": []
  }
 ],
 "metadata": {
  "kernelspec": {
   "display_name": "Python 3 (ipykernel)",
   "language": "python",
   "name": "python3"
  },
  "language_info": {
   "codemirror_mode": {
    "name": "ipython",
    "version": 3
   },
   "file_extension": ".py",
   "mimetype": "text/x-python",
   "name": "python",
   "nbconvert_exporter": "python",
   "pygments_lexer": "ipython3",
   "version": "3.9.16"
  }
 },
 "nbformat": 4,
 "nbformat_minor": 5
}
